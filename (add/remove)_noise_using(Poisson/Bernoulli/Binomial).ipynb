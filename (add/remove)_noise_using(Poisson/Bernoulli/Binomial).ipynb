{
  "nbformat": 4,
  "nbformat_minor": 0,
  "metadata": {
    "colab": {
      "private_outputs": true,
      "provenance": [],
      "include_colab_link": true
    },
    "kernelspec": {
      "name": "python3",
      "display_name": "Python 3"
    },
    "language_info": {
      "name": "python"
    }
  },
  "cells": [
    {
      "cell_type": "markdown",
      "metadata": {
        "id": "view-in-github",
        "colab_type": "text"
      },
      "source": [
        "<a href=\"https://colab.research.google.com/github/hnxsite/works-in-the-univ/blob/main/(add/remove)_noise_using(Poisson/Bernoulli/Binomial).ipynb\" target=\"_parent\"><img src=\"https://colab.research.google.com/assets/colab-badge.svg\" alt=\"Open In Colab\"/></a>"
      ]
    },
    {
      "cell_type": "markdown",
      "source": [
        "# ***add noise with Bernouli***"
      ],
      "metadata": {
        "id": "iwmP4cpTBJps"
      }
    },
    {
      "cell_type": "code",
      "source": [
        "import numpy as np\n",
        "import cv2\n",
        "import matplotlib.pyplot as plt\n",
        "from google.colab import files\n",
        "\n",
        "\n",
        "# Load the image\n",
        "image = cv2.imread('cameraman.jpg', cv2.IMREAD_GRAYSCALE)\n",
        "\n",
        "# Function to add Bernoulli noise to the image\n",
        "def add_bernoulli_noise(image, probability):\n",
        "    # Generate random noise based on Bernoulli distribution\n",
        "    noise = np.random.binomial(1, probability, size=image.shape).astype(np.uint8) * 255\n",
        "    # Apply the noise to the image\n",
        "    print(noise,noise.shape)\n",
        "    noisy_image = cv2.add(image, noise)\n",
        "    return noisy_image\n",
        "\n",
        "# Set the probability of noise (adjust as needed)\n",
        "probability = 0.05\n",
        "\n",
        "# Add Bernoulli noise to the image\n",
        "noisy_image = add_bernoulli_noise(image, probability)\n",
        "\n",
        "# Display the original and noisy images using Matplotlib\n",
        "plt.figure(figsize=(10, 5))\n",
        "\n",
        "plt.subplot(1, 2, 1)\n",
        "plt.imshow(image, cmap='gray')\n",
        "plt.title('Original Image')\n",
        "plt.axis('off')\n",
        "\n",
        "plt.subplot(1, 2, 2)\n",
        "plt.imshow(noisy_image, cmap='gray')\n",
        "plt.title('Noisy Image')\n",
        "plt.axis('off')\n",
        "\n",
        "plt.show()\n",
        "\n",
        "# Save the noisy image to a file\n",
        "cv2.imwrite('noisy_image_Bernoulli.jpg', noisy_image)\n",
        "\n",
        "# Download the saved image file\n",
        "files.download('noisy_image_Bernoulli.jpg')"
      ],
      "metadata": {
        "id": "jGX1MVzI_gYN"
      },
      "execution_count": null,
      "outputs": []
    },
    {
      "cell_type": "markdown",
      "source": [
        "# ***remove noise with Bernouli***"
      ],
      "metadata": {
        "id": "8vxUIktWBZye"
      }
    },
    {
      "cell_type": "code",
      "source": [
        "# Function to denoise the image with Bernoulli noise\n",
        "def denoise_bernoulli_noise(noisy_image, threshold):\n",
        "    # Threshold the noisy image to remove the noise\n",
        "    denoised_image = cv2.threshold(noisy_image, threshold, 255, cv2.THRESH_BINARY)[1]\n",
        "    return denoised_image\n",
        "\n",
        "# Set the threshold for denoising (adjust as needed)\n",
        "threshold = 127\n",
        "\n",
        "# Denoise the image\n",
        "denoised_image = denoise_bernoulli_noise(noisy_image, threshold)\n",
        "\n",
        "# Display the denoised image\n",
        "plt.figure(figsize=(5, 5))\n",
        "plt.imshow(denoised_image, cmap='gray')\n",
        "plt.title('Denoised Image')\n",
        "plt.axis('off')\n",
        "plt.show()"
      ],
      "metadata": {
        "id": "bFEyn2UpBIv2"
      },
      "execution_count": null,
      "outputs": []
    },
    {
      "cell_type": "markdown",
      "source": [
        "# ***add noise with Binomial***"
      ],
      "metadata": {
        "id": "n-4NlOqQBcL2"
      }
    },
    {
      "cell_type": "code",
      "source": [
        "import numpy as np\n",
        "import cv2\n",
        "import matplotlib.pyplot as plt\n",
        "\n",
        "# Load the image\n",
        "image = cv2.imread('cameraman.jpg', cv2.IMREAD_GRAYSCALE)\n",
        "\n",
        "# Function to add Binomial noise to the image\n",
        "def add_binomial_noise(image, probability):\n",
        "    # Generate random noise based on Binomial distribution\n",
        "    noise = np.random.binomial(5000, probability, size=image.shape).astype(np.uint8)\n",
        "    # Apply the noise to the image\n",
        "    noisy_image = cv2.add(image, noise)\n",
        "    return noisy_image\n",
        "\n",
        "# Set the probability of noise (adjust as needed)\n",
        "probability = 0.9\n",
        "\n",
        "# Add Binomial noise to the image\n",
        "noisy_image = add_binomial_noise(image, probability)\n",
        "\n",
        "# Display the original and noisy images using Matplotlib\n",
        "plt.figure(figsize=(10, 5))\n",
        "\n",
        "plt.subplot(1, 2, 1)\n",
        "plt.imshow(image, cmap='gray')\n",
        "plt.title('Original Image')\n",
        "plt.axis('off')\n",
        "\n",
        "plt.subplot(1, 2, 2)\n",
        "plt.imshow(noisy_image, cmap='gray')\n",
        "plt.title('Noisy Image')\n",
        "plt.axis('off')\n",
        "\n",
        "plt.show()\n",
        "# Save the noisy image to a file\n",
        "cv2.imwrite('noisy_image_Binomial.jpg', noisy_image)\n",
        "\n",
        "# Download the saved image file\n",
        "files.download('noisy_image_Binomial.jpg')"
      ],
      "metadata": {
        "id": "h9_grCE2ANf4"
      },
      "execution_count": null,
      "outputs": []
    },
    {
      "cell_type": "markdown",
      "source": [
        "# ***remove noise with Binomial***"
      ],
      "metadata": {
        "id": "zCofEcenBfPw"
      }
    },
    {
      "cell_type": "code",
      "source": [
        "# Function to denoise the image with Binomial noise using an averaging filter\n",
        "def denoise_binomial_noise(noisy_image):\n",
        "    # Apply a 3x3 averaging filter to the noisy image\n",
        "    denoised_image = cv2.blur(noisy_image, (3, 3))\n",
        "    return denoised_image\n",
        "\n",
        "# Denoise the image\n",
        "denoised_image = denoise_binomial_noise(noisy_image)\n",
        "\n",
        "# Display the denoised image\n",
        "plt.figure(figsize=(5, 5))\n",
        "plt.imshow(denoised_image, cmap='gray')\n",
        "plt.title('Denoised Image (Binomial Noise)')\n",
        "plt.axis('off')\n",
        "plt.show()\n"
      ],
      "metadata": {
        "id": "o2RXzD_1ClPW"
      },
      "execution_count": null,
      "outputs": []
    },
    {
      "cell_type": "markdown",
      "source": [
        "# ***add noise with Poisson***"
      ],
      "metadata": {
        "id": "7v-CC7uDBlpN"
      }
    },
    {
      "cell_type": "code",
      "source": [
        "import numpy as np\n",
        "import cv2\n",
        "import matplotlib.pyplot as plt\n",
        "\n",
        "# Load the image\n",
        "image = cv2.imread('cameraman.jpg', cv2.IMREAD_GRAYSCALE)\n",
        "\n",
        "# Function to add Poisson noise to the image\n",
        "def add_poisson_noise(image, scale):\n",
        "    # Generate random noise based on Poisson distribution\n",
        "    noise = np.random.poisson(scale, size=image.shape).astype(np.uint8)\n",
        "    # Apply the noise to the image\n",
        "    noisy_image = cv2.add(image, noise)\n",
        "    return noisy_image\n",
        "\n",
        "# Set the scale parameter for the Poisson distribution (adjust as needed)\n",
        "scale = 10\n",
        "\n",
        "# Add Poisson noise to the image\n",
        "noisy_image = add_poisson_noise(image, scale)\n",
        "\n",
        "# Display the original and noisy images using Matplotlib\n",
        "plt.figure(figsize=(10, 5))\n",
        "\n",
        "plt.subplot(1, 2, 1)\n",
        "plt.imshow(image, cmap='gray')\n",
        "plt.title('Original Image')\n",
        "plt.axis('off')\n",
        "\n",
        "plt.subplot(1, 2, 2)\n",
        "plt.imshow(noisy_image, cmap='gray')\n",
        "plt.title('Noisy Image')\n",
        "plt.axis('off')\n",
        "\n",
        "plt.show()\n",
        "# Save the noisy image to a file\n",
        "cv2.imwrite('noisy_image_Poisson.jpg', noisy_image)\n",
        "\n",
        "# Download the saved image file\n",
        "files.download('noisy_image_Poisson.jpg')"
      ],
      "metadata": {
        "id": "h4Q9Bz-XB7dI"
      },
      "execution_count": null,
      "outputs": []
    },
    {
      "cell_type": "markdown",
      "source": [
        "# ***remove noise with Poisson***"
      ],
      "metadata": {
        "id": "5BlZux7HBtJ_"
      }
    },
    {
      "cell_type": "code",
      "source": [
        "# Function to denoise the image with Poisson noise using inverse Poisson noise model\n",
        "def denoise_poisson_noise(noisy_image, scale):\n",
        "    # Apply Poisson denoising using inverse Poisson noise model\n",
        "    denoised_image = noisy_image - scale\n",
        "    denoised_image[denoised_image < 0] = 0\n",
        "    return denoised_image\n",
        "\n",
        "# Denoise the image\n",
        "denoised_image = denoise_poisson_noise(noisy_image, scale)\n",
        "\n",
        "# Display the denoised image\n",
        "plt.figure(figsize=(5, 5))\n",
        "plt.imshow(denoised_image, cmap='gray')\n",
        "plt.title('Denoised Image (Poisson Noise)')\n",
        "plt.axis('off')\n",
        "plt.show()"
      ],
      "metadata": {
        "id": "cX3wLcEzC-2O"
      },
      "execution_count": null,
      "outputs": []
    },
    {
      "cell_type": "markdown",
      "source": [
        "# ***add noise with Bernouli RGB***"
      ],
      "metadata": {
        "id": "gyi2XPgRBv7A"
      }
    },
    {
      "cell_type": "code",
      "source": [
        "import numpy as np\n",
        "import cv2\n",
        "import matplotlib.pyplot as plt\n",
        "\n",
        "# Load the image in RGB format\n",
        "image = cv2.imread('Parrot.jpg', cv2.IMREAD_COLOR)\n",
        "\n",
        "# Function to add Bernoulli noise to the image\n",
        "def add_bernoulli_noise(image, probability):\n",
        "    # Generate random noise based on Bernoulli distribution for each channel\n",
        "    noisy_image = np.zeros_like(image)\n",
        "    for channel in range(3):\n",
        "        noise = np.random.binomial(1, probability, size=image[:,:,channel].shape).astype(np.uint8) * 255\n",
        "        noisy_channel = cv2.add(image[:,:,channel], noise)\n",
        "        noisy_image[:,:,channel] = noisy_channel\n",
        "    return noisy_image\n",
        "\n",
        "# Set the probability of noise (adjust as needed)\n",
        "probability = 0.05\n",
        "\n",
        "# Add Bernoulli noise to the image\n",
        "noisy_image = add_bernoulli_noise(image, probability)\n",
        "\n",
        "# Convert BGR to RGB for displaying using Matplotlib\n",
        "noisy_image_rgb = cv2.cvtColor(noisy_image, cv2.COLOR_BGR2RGB)\n",
        "\n",
        "# Display the original and noisy images using Matplotlib\n",
        "plt.figure(figsize=(10, 5))\n",
        "\n",
        "plt.subplot(1, 2, 1)\n",
        "plt.imshow(cv2.cvtColor(image, cv2.COLOR_BGR2RGB))\n",
        "plt.title('Original Image')\n",
        "plt.axis('off')\n",
        "\n",
        "plt.subplot(1, 2, 2)\n",
        "plt.imshow(noisy_image_rgb)\n",
        "plt.title('Noisy Image')\n",
        "plt.axis('off')\n",
        "\n",
        "plt.show()\n",
        "# Save the noisy image to a file\n",
        "cv2.imwrite('noisy_image_Bernoulli_rgb.jpg', noisy_image)\n",
        "\n",
        "# Download the saved image file\n",
        "files.download('noisy_image_Bernoulli_rgb.jpg')"
      ],
      "metadata": {
        "id": "cOjjroA7EP3B"
      },
      "execution_count": null,
      "outputs": []
    },
    {
      "cell_type": "markdown",
      "source": [
        "# ***remove noise with Bernouli RGB***"
      ],
      "metadata": {
        "id": "Zweu1EL_B7iP"
      }
    },
    {
      "cell_type": "code",
      "source": [
        "# Function to denoise the RGB image with Bernoulli noise\n",
        "def denoise_bernoulli_noise_rgb(noisy_image):\n",
        "    # Denoise each color channel separately\n",
        "    denoised_image = np.zeros_like(noisy_image)\n",
        "    for channel in range(3):\n",
        "        # Apply a median filter to denoise each channel\n",
        "        denoised_channel = cv2.medianBlur(noisy_image[:,:,channel], 3)\n",
        "        denoised_image[:,:,channel] = denoised_channel\n",
        "    return denoised_image\n",
        "\n",
        "# Denoise the RGB image\n",
        "denoised_image = denoise_bernoulli_noise_rgb(noisy_image)\n",
        "\n",
        "# Convert the denoised image back to RGB for displaying using Matplotlib\n",
        "denoised_image_rgb = cv2.cvtColor(denoised_image, cv2.COLOR_BGR2RGB)\n",
        "\n",
        "# Display the denoised image\n",
        "plt.figure(figsize=(5, 5))\n",
        "plt.imshow(denoised_image_rgb)\n",
        "plt.title('Denoised Image (Bernoulli Noise)')\n",
        "plt.axis('off')\n",
        "plt.show()\n"
      ],
      "metadata": {
        "id": "5sklBUAIETxi"
      },
      "execution_count": null,
      "outputs": []
    },
    {
      "cell_type": "markdown",
      "source": [
        "# ***add noise with Binomial RGB***"
      ],
      "metadata": {
        "id": "nDKZiwouB24m"
      }
    },
    {
      "cell_type": "code",
      "source": [
        "import numpy as np\n",
        "import cv2\n",
        "import matplotlib.pyplot as plt\n",
        "\n",
        "# Load the image in RGB format\n",
        "image = cv2.imread('Parrot.jpg', cv2.IMREAD_COLOR)\n",
        "\n",
        "# Function to add Binomial noise to the image\n",
        "def add_binomial_noise(image, probability):\n",
        "    # Generate random noise based on Binomial distribution for each channel\n",
        "    noisy_image = np.zeros_like(image)\n",
        "    for channel in range(3):\n",
        "        noise = np.random.binomial(500, probability, size=image[:,:,channel].shape).astype(np.uint8)\n",
        "        noisy_channel = cv2.add(image[:,:,channel], noise)\n",
        "        noisy_image[:,:,channel] = noisy_channel\n",
        "    return noisy_image\n",
        "\n",
        "# Set the probability of noise (adjust as needed)\n",
        "probability = 0.5\n",
        "\n",
        "# Add Binomial noise to the image\n",
        "noisy_image = add_binomial_noise(image, probability)\n",
        "\n",
        "# Convert BGR to RGB for displaying using Matplotlib\n",
        "noisy_image_rgb = cv2.cvtColor(noisy_image, cv2.COLOR_BGR2RGB)\n",
        "\n",
        "# Display the original and noisy images using Matplotlib\n",
        "plt.figure(figsize=(10, 5))\n",
        "\n",
        "plt.subplot(1, 2, 1)\n",
        "plt.imshow(cv2.cvtColor(image, cv2.COLOR_BGR2RGB))\n",
        "plt.title('Original Image')\n",
        "plt.axis('off')\n",
        "\n",
        "plt.subplot(1, 2, 2)\n",
        "plt.imshow(noisy_image_rgb)\n",
        "plt.title('Noisy Image')\n",
        "plt.axis('off')\n",
        "\n",
        "plt.show()\n",
        "# Save the noisy image to a file\n",
        "cv2.imwrite('noisy_image_Binomial_rgb.jpg', noisy_image)\n",
        "\n",
        "# Download the saved image file\n",
        "files.download('noisy_image_Binomial_rgb.jpg')"
      ],
      "metadata": {
        "id": "xHodc-afFXx8"
      },
      "execution_count": null,
      "outputs": []
    },
    {
      "cell_type": "markdown",
      "source": [
        "# ***remove noise with Binomial RGB***"
      ],
      "metadata": {
        "id": "DVl93TT6CB-U"
      }
    },
    {
      "cell_type": "code",
      "source": [
        "# Function to denoise the RGB image with Binomial noise\n",
        "def denoise_binomial_noise_rgb(noisy_image):\n",
        "    # Denoise each color channel separately\n",
        "    denoised_image = np.zeros_like(noisy_image)\n",
        "    for channel in range(3):\n",
        "        # Apply a 3x3 averaging filter to denoise each channel\n",
        "        denoised_channel = cv2.blur(noisy_image[:,:,channel], (3, 3))\n",
        "        denoised_image[:,:,channel] = denoised_channel\n",
        "    return denoised_image\n",
        "\n",
        "# Denoise the RGB image\n",
        "denoised_image = denoise_binomial_noise_rgb(noisy_image)\n",
        "\n",
        "# Convert the denoised image back to RGB for displaying using Matplotlib\n",
        "denoised_image_rgb = cv2.cvtColor(denoised_image, cv2.COLOR_BGR2RGB)\n",
        "\n",
        "# Display the denoised image\n",
        "plt.figure(figsize=(5, 5))\n",
        "plt.imshow(denoised_image_rgb)\n",
        "plt.title('Denoised Image (Binomial Noise)')\n",
        "plt.axis('off')\n",
        "plt.show()"
      ],
      "metadata": {
        "id": "bxZdDOYoCBcT"
      },
      "execution_count": null,
      "outputs": []
    },
    {
      "cell_type": "markdown",
      "source": [
        "# ***add noise with Poisson RGB***"
      ],
      "metadata": {
        "id": "UPsUagLTCEMo"
      }
    },
    {
      "cell_type": "code",
      "source": [
        "import numpy as np\n",
        "import cv2\n",
        "import matplotlib.pyplot as plt\n",
        "\n",
        "# Load the image in RGB format\n",
        "image = cv2.imread('Parrot.jpg', cv2.IMREAD_COLOR)\n",
        "\n",
        "# Function to add Poisson noise to the image\n",
        "def add_poisson_noise(image, scale):\n",
        "    # Generate random noise based on Poisson distribution for each channel\n",
        "    noisy_image = np.zeros_like(image)\n",
        "    for channel in range(3):\n",
        "        noise = np.random.poisson(scale, size=image[:,:,channel].shape).astype(np.uint8)\n",
        "        noisy_channel = cv2.add(image[:,:,channel], noise)\n",
        "        noisy_image[:,:,channel] = noisy_channel\n",
        "    return noisy_image\n",
        "\n",
        "# Set the scale parameter for the Poisson distribution (adjust as needed)\n",
        "scale = 10\n",
        "\n",
        "# Add Poisson noise to the image\n",
        "noisy_image = add_poisson_noise(image, scale)\n",
        "\n",
        "# Convert BGR to RGB for displaying using Matplotlib\n",
        "noisy_image_rgb = cv2.cvtColor(noisy_image, cv2.COLOR_BGR2RGB)\n",
        "\n",
        "# Display the original and noisy images using Matplotlib\n",
        "plt.figure(figsize=(10, 5))\n",
        "\n",
        "plt.subplot(1, 2, 1)\n",
        "plt.imshow(cv2.cvtColor(image, cv2.COLOR_BGR2RGB))\n",
        "plt.title('Original Image')\n",
        "plt.axis('off')\n",
        "\n",
        "plt.subplot(1, 2, 2)\n",
        "plt.imshow(noisy_image_rgb)\n",
        "plt.title('Noisy Image')\n",
        "plt.axis('off')\n",
        "\n",
        "plt.show()\n",
        "# Save the noisy image to a file\n",
        "cv2.imwrite('noisy_image_Poisson_rgb.jpg', noisy_image)\n",
        "\n",
        "# Download the saved image file\n",
        "files.download('noisy_image_Poisson_rgb.jpg')"
      ],
      "metadata": {
        "id": "uJ1Kd-4FGRLL"
      },
      "execution_count": null,
      "outputs": []
    },
    {
      "cell_type": "markdown",
      "source": [
        "# ***remove noise with Poisson RGB***"
      ],
      "metadata": {
        "id": "vMD6gqSACIjL"
      }
    },
    {
      "cell_type": "code",
      "source": [
        "# Function to denoise the RGB image with Poisson noise\n",
        "def denoise_poisson_noise_rgb(noisy_image, scale):\n",
        "    # Denoise each color channel separately\n",
        "    denoised_image = np.zeros_like(noisy_image)\n",
        "    for channel in range(3):\n",
        "        # Apply Poisson denoising using inverse Poisson noise model\n",
        "        denoised_channel = noisy_image[:,:,channel] - scale\n",
        "        denoised_channel[denoised_channel < 0] = 0\n",
        "        denoised_image[:,:,channel] = denoised_channel\n",
        "    return denoised_image\n",
        "\n",
        "# Denoise the RGB image\n",
        "denoised_image = denoise_poisson_noise_rgb(noisy_image, scale)\n",
        "\n",
        "# Convert the denoised image back to RGB for displaying using Matplotlib\n",
        "denoised_image_rgb = cv2.cvtColor(denoised_image, cv2.COLOR_BGR2RGB)\n",
        "\n",
        "# Display the denoised image\n",
        "plt.figure(figsize=(5, 5))\n",
        "plt.imshow(denoised_image_rgb)\n",
        "plt.title('Denoised Image (Poisson Noise)')\n",
        "plt.axis('off')\n",
        "plt.show()\n"
      ],
      "metadata": {
        "id": "lLZ2YkL_FHEf"
      },
      "execution_count": null,
      "outputs": []
    }
  ]
}