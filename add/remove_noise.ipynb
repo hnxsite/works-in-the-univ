{
  "nbformat": 4,
  "nbformat_minor": 0,
  "metadata": {
    "colab": {
      "private_outputs": true,
      "provenance": [],
      "include_colab_link": true
    },
    "kernelspec": {
      "name": "python3",
      "display_name": "Python 3"
    },
    "language_info": {
      "name": "python"
    }
  },
  "cells": [
    {
      "cell_type": "markdown",
      "metadata": {
        "id": "view-in-github",
        "colab_type": "text"
      },
      "source": [
        "<a href=\"https://colab.research.google.com/github/hnxsite/works-in-the-univ/blob/main/add/remove_noise.ipynb\" target=\"_parent\"><img src=\"https://colab.research.google.com/assets/colab-badge.svg\" alt=\"Open In Colab\"/></a>"
      ]
    },
    {
      "cell_type": "markdown",
      "source": [
        "# ***add/remove noise with Bernouli***"
      ],
      "metadata": {
        "id": "iwmP4cpTBJps"
      }
    },
    {
      "cell_type": "code",
      "source": [
        "import numpy as np\n",
        "import cv2\n",
        "import matplotlib.pyplot as plt\n",
        "from google.colab import files\n",
        "\n",
        "# Load the image\n",
        "image = cv2.imread('cameraman.jpg', cv2.IMREAD_GRAYSCALE)\n",
        "\n",
        "# Function to add Bernoulli noise to the image\n",
        "def add_bernoulli_noise(image, probability):\n",
        "    # Generate random noise based on Bernoulli distribution\n",
        "    noise = np.random.binomial(1, probability, size=image.shape).astype(np.uint8) * 255\n",
        "    # Apply the noise to the image\n",
        "    noisy_image = cv2.add(image, noise)\n",
        "    return noisy_image\n",
        "\n",
        "# Set the starting and ending probabilities for noise addition and removal\n",
        "start_probability = 0.1\n",
        "end_probability = 1.1\n",
        "step = 0.1\n",
        "\n",
        "# Add and remove noise in increments of 0.05\n",
        "probabilities = np.arange(start_probability, end_probability, step)\n",
        "for probability in probabilities:\n",
        "    noisy_image = add_bernoulli_noise(image, probability)\n",
        "\n",
        "    # Display the noisy image using Matplotlib\n",
        "    plt.figure(figsize=(5, 5))\n",
        "    plt.imshow(noisy_image, cmap='gray')\n",
        "    plt.title('Noisy Image (Probability = {})'.format(probability))\n",
        "    plt.axis('off')\n",
        "    plt.show()\n",
        "\n",
        "# Remove noise in increments of 0.05\n",
        "probabilities = np.arange(end_probability - step, start_probability - step, -step)\n",
        "for probability in probabilities:\n",
        "    noisy_image = add_bernoulli_noise(image, probability)\n",
        "\n",
        "    # Display the noisy image using Matplotlib\n",
        "    plt.figure(figsize=(5, 5))\n",
        "    plt.imshow(noisy_image, cmap='gray')\n",
        "    plt.title('Noisy Image (Probability = {})'.format(probability))\n",
        "    plt.axis('off')\n",
        "    plt.show()"
      ],
      "metadata": {
        "id": "jGX1MVzI_gYN"
      },
      "execution_count": null,
      "outputs": []
    },
    {
      "cell_type": "markdown",
      "source": [
        "# ***add/remove noise with Binomial***"
      ],
      "metadata": {
        "id": "n-4NlOqQBcL2"
      }
    },
    {
      "cell_type": "code",
      "source": [
        "import numpy as np\n",
        "import cv2\n",
        "import matplotlib.pyplot as plt\n",
        "\n",
        "# Load the image\n",
        "image = cv2.imread('cameraman.jpg', cv2.IMREAD_GRAYSCALE)\n",
        "\n",
        "# Function to add Binomial noise to the image\n",
        "def add_binomial_noise(image, probability):\n",
        "    # Generate random noise based on Binomial distribution\n",
        "    noise = np.random.binomial(255, probability, size=image.shape).astype(np.uint8)\n",
        "    # Apply the noise to the image\n",
        "    noisy_image = cv2.add(image, noise)\n",
        "    return noisy_image\n",
        "\n",
        "# Set the starting and ending probabilities for noise addition and removal\n",
        "start_probability = 0.1\n",
        "end_probability = 1.1\n",
        "step = 0.1\n",
        "\n",
        "# Add and remove noise in increments of 0.1\n",
        "probabilities = np.arange(start_probability, end_probability, step)\n",
        "for probability in probabilities:\n",
        "    noisy_image = add_binomial_noise(image, probability)\n",
        "\n",
        "    # Display the noisy image using Matplotlib\n",
        "    plt.figure(figsize=(5, 5))\n",
        "    plt.imshow(noisy_image, cmap='gray')\n",
        "    plt.title('Noisy Image (Probability = {})'.format(probability))\n",
        "    plt.axis('off')\n",
        "    plt.show()\n",
        "\n",
        "# Remove noise in increments of 0.1\n",
        "probabilities = np.arange(end_probability - step, start_probability - step, -step)\n",
        "for probability in probabilities:\n",
        "    noisy_image = add_binomial_noise(image, probability)\n",
        "\n",
        "    # Display the noisy image using Matplotlib\n",
        "    plt.figure(figsize=(5, 5))\n",
        "    plt.imshow(noisy_image, cmap='gray')\n",
        "    plt.title('Noisy Image (Probability = {})'.format(probability))\n",
        "    plt.axis('off')\n",
        "    plt.show()\n"
      ],
      "metadata": {
        "id": "h9_grCE2ANf4"
      },
      "execution_count": null,
      "outputs": []
    },
    {
      "cell_type": "markdown",
      "source": [
        "# ***add noise with Poisson***"
      ],
      "metadata": {
        "id": "7v-CC7uDBlpN"
      }
    },
    {
      "cell_type": "code",
      "source": [
        "import numpy as np\n",
        "import cv2\n",
        "import matplotlib.pyplot as plt\n",
        "from google.colab import files\n",
        "\n",
        "# Load the image\n",
        "image = cv2.imread('cameraman.jpg', cv2.IMREAD_GRAYSCALE)\n",
        "\n",
        "# Function to add Poisson noise to the image\n",
        "def add_poisson_noise(image, scale):\n",
        "    # Generate random noise based on Poisson distribution\n",
        "    noise = np.random.poisson(scale, size=image.shape).astype(np.uint8)\n",
        "    # Apply the noise to the image\n",
        "    noisy_image = cv2.add(image, noise)\n",
        "    return noisy_image\n",
        "\n",
        "# Set the starting and ending scales for noise addition and removal\n",
        "start_scale = 1\n",
        "end_scale = 11\n",
        "step = 1\n",
        "\n",
        "# Add and remove noise in increments of 1\n",
        "scales = np.arange(start_scale, end_scale, step)\n",
        "for scale in scales:\n",
        "    noisy_image = add_poisson_noise(image, scale)\n",
        "\n",
        "    # Display the noisy image using Matplotlib\n",
        "    plt.figure(figsize=(5, 5))\n",
        "    plt.imshow(noisy_image, cmap='gray')\n",
        "    plt.title('Noisy Image (Scale = {})'.format(scale))\n",
        "    plt.axis('off')\n",
        "    plt.show()\n",
        "\n",
        "# Remove noise in increments of 1\n",
        "scales = np.arange(end_scale - step, start_scale - step, -step)\n",
        "for scale in scales:\n",
        "    noisy_image = add_poisson_noise(image, scale)\n",
        "\n",
        "    # Display the noisy image using Matplotlib\n",
        "    plt.figure(figsize=(5, 5))\n",
        "    plt.imshow(noisy_image, cmap='gray')\n",
        "    plt.title('Noisy Image (Scale = {})'.format(scale))\n",
        "    plt.axis('off')\n",
        "    plt.show()\n"
      ],
      "metadata": {
        "id": "h4Q9Bz-XB7dI"
      },
      "execution_count": null,
      "outputs": []
    },
    {
      "cell_type": "markdown",
      "source": [
        "# ***add/remove noise with Bernouli RGB***"
      ],
      "metadata": {
        "id": "gyi2XPgRBv7A"
      }
    },
    {
      "cell_type": "code",
      "source": [
        "import numpy as np\n",
        "import cv2\n",
        "import matplotlib.pyplot as plt\n",
        "\n",
        "# Load the image in RGB format\n",
        "image = cv2.imread('Parrot.jpg', cv2.IMREAD_COLOR)\n",
        "\n",
        "# Function to add Bernoulli noise to the image\n",
        "def add_bernoulli_noise(image, probability):\n",
        "    # Generate random noise based on Bernoulli distribution for each channel\n",
        "    noisy_image = np.zeros_like(image)\n",
        "    for channel in range(3):\n",
        "        noise = np.random.binomial(1, probability, size=image[:,:,channel].shape).astype(np.uint8) * 255\n",
        "        noisy_channel = cv2.add(image[:,:,channel], noise)\n",
        "        noisy_image[:,:,channel] = noisy_channel\n",
        "    return noisy_image\n",
        "\n",
        "# Set the starting and ending probabilities for noise addition and removal\n",
        "start_probability = 0.1\n",
        "end_probability = 1.1\n",
        "step = 0.1\n",
        "\n",
        "# Add and remove noise in increments of 0.05\n",
        "probabilities = np.arange(start_probability, end_probability, step)\n",
        "for probability in probabilities:\n",
        "    noisy_image = add_bernoulli_noise(image, probability)\n",
        "\n",
        "    # Convert BGR to RGB for displaying using Matplotlib\n",
        "    noisy_image_rgb = cv2.cvtColor(noisy_image, cv2.COLOR_BGR2RGB)\n",
        "\n",
        "    # Display the noisy image using Matplotlib\n",
        "    plt.figure(figsize=(5, 5))\n",
        "    plt.imshow(noisy_image_rgb)\n",
        "    plt.title('Noisy Image (Probability = {})'.format(probability))\n",
        "    plt.axis('off')\n",
        "    plt.show()\n",
        "\n",
        "# Remove noise in increments of 0.05\n",
        "probabilities = np.arange(end_probability - step, start_probability - step, -step)\n",
        "for probability in probabilities:\n",
        "    noisy_image = add_bernoulli_noise(image, probability)\n",
        "\n",
        "    # Convert BGR to RGB for displaying using Matplotlib\n",
        "    noisy_image_rgb = cv2.cvtColor(noisy_image, cv2.COLOR_BGR2RGB)\n",
        "\n",
        "    # Display the noisy image using Matplotlib\n",
        "    plt.figure(figsize=(5, 5))\n",
        "    plt.imshow(noisy_image_rgb)\n",
        "    plt.title('Noisy Image (Probability = {})'.format(probability))\n",
        "    plt.axis('off')\n",
        "    plt.show()\n"
      ],
      "metadata": {
        "id": "cOjjroA7EP3B"
      },
      "execution_count": null,
      "outputs": []
    }
  ]
}